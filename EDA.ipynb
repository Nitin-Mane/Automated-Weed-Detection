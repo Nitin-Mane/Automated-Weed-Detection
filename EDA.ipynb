{
 "cells": [
  {
   "cell_type": "code",
   "execution_count": 1,
   "id": "df681365",
   "metadata": {},
   "outputs": [],
   "source": [
    "import os\n",
    "os.environ[\"CUDA_VISIBLE_DEVICES\"] = \"\"  # Disable GPU\n",
    "os.environ[\"CUDA_DEVICE_ORDER\"] = \"PCI_BUS_ID\"  # Use PCI bus order\n",
    "os.environ[\"CUDA_LAUNCH_BLOCKING\"] = \"1\"  # Force CUDA to run synchronously for better profiling\n",
    "\n",
    "import torch\n",
    "if torch.cuda.is_available():\n",
    "    torch.backends.cudnn.deterministic = True  # Set deterministic mode\n",
    "    torch.backends.cudnn.benchmark = False  # Disable cudnn benchmarking for reproducibility\n",
    "\n",
    "# Set CPU affinity to use only Intel processors\n",
    "torch.set_num_threads(torch.get_num_threads())\n",
    "os.environ[\"KMP_BLOCKTIME\"] = \"0\"\n",
    "os.environ[\"KMP_AFFINITY\"] = \"granularity=fine,compact,1,0\"\n"
   ]
  },
  {
   "cell_type": "code",
   "execution_count": 2,
   "id": "8b445773",
   "metadata": {},
   "outputs": [],
   "source": [
    "DEBUG = False # set this flag to True to use a small subset of data for testing"
   ]
  },
  {
   "cell_type": "code",
   "execution_count": 3,
   "id": "ba2fb0ad",
   "metadata": {},
   "outputs": [],
   "source": [
    "import os\n",
    "from PIL import Image\n",
    "import numpy as np\n",
    "from fastprogress.fastprogress import progress_bar\n",
    "from fastai.vision.all import *\n",
    "import params\n",
    "\n",
    "import wandb"
   ]
  },
  {
   "cell_type": "code",
   "execution_count": 4,
   "id": "31b01420",
   "metadata": {},
   "outputs": [],
   "source": [
    "data_path = './dataset/data/'"
   ]
  },
  {
   "cell_type": "code",
   "execution_count": 18,
   "id": "68f170b2",
   "metadata": {},
   "outputs": [],
   "source": [
    "def get_classes_per_image(txt_data, class_labels):\n",
    "    \"\"\"\n",
    "    Get the count of classes present in an image.\n",
    "    \"\"\"\n",
    "    result_dict = {class_labels[int(d.split()[0])]: 1 for d in txt_data}\n",
    "    return result_dict\n",
    "\n",
    "\n",
    "def _create_table(image_files, class_labels):\n",
    "    \"\"\"\n",
    "    Create a table with the dataset.\n",
    "    \"\"\"\n",
    "    labels = ['object', 'x_cen', 'y_cen', 'w', 'h']\n",
    "    table = wandb.Table(columns=[\"image_name\"] + labels)\n",
    "\n",
    "    for i, image_file in progress_bar(enumerate(image_files), total=len(image_files)):\n",
    "        with open(os.path.splitext(image_file)[0] + '.txt') as f:\n",
    "            txt_data = f.readlines()\n",
    "\n",
    "        for line in txt_data:\n",
    "            line = line.strip().split()\n",
    "            obj_class = class_labels[int(line[0])]\n",
    "            x_cen, y_cen, w, h = [float(x) for x in line[1:]]\n",
    "            table.add_data(\n",
    "                Path(image_file).name,\n",
    "                obj_class,\n",
    "                x_cen,\n",
    "                y_cen,\n",
    "                w,\n",
    "                h\n",
    "            )\n",
    "\n",
    "    return table"
   ]
  },
  {
   "cell_type": "code",
   "execution_count": 6,
   "id": "e127f44d",
   "metadata": {},
   "outputs": [
    {
     "name": "stderr",
     "output_type": "stream",
     "text": [
      "\u001b[34m\u001b[1mwandb\u001b[0m: Currently logged in as: \u001b[33mmnitin59\u001b[0m (\u001b[33mdevhive\u001b[0m). Use \u001b[1m`wandb login --relogin`\u001b[0m to force relogin\n"
     ]
    },
    {
     "data": {
      "text/html": [
       "Tracking run with wandb version 0.13.10"
      ],
      "text/plain": [
       "<IPython.core.display.HTML object>"
      ]
     },
     "metadata": {},
     "output_type": "display_data"
    },
    {
     "data": {
      "text/html": [
       "Run data is saved locally in <code>D:\\Deep Learning\\Intel_oneapi\\Automated-Weed-Detection\\wandb\\run-20230304_234615-yqzum06r</code>"
      ],
      "text/plain": [
       "<IPython.core.display.HTML object>"
      ]
     },
     "metadata": {},
     "output_type": "display_data"
    },
    {
     "data": {
      "text/html": [
       "Syncing run <strong><a href='https://wandb.ai/devhive/automated_weed_detection/runs/yqzum06r' target=\"_blank\">vibrant-smoke-12</a></strong> to <a href='https://wandb.ai/devhive/automated_weed_detection' target=\"_blank\">Weights & Biases</a> (<a href='https://wandb.me/run' target=\"_blank\">docs</a>)<br/>"
      ],
      "text/plain": [
       "<IPython.core.display.HTML object>"
      ]
     },
     "metadata": {},
     "output_type": "display_data"
    },
    {
     "data": {
      "text/html": [
       " View project at <a href='https://wandb.ai/devhive/automated_weed_detection' target=\"_blank\">https://wandb.ai/devhive/automated_weed_detection</a>"
      ],
      "text/plain": [
       "<IPython.core.display.HTML object>"
      ]
     },
     "metadata": {},
     "output_type": "display_data"
    },
    {
     "data": {
      "text/html": [
       " View run at <a href='https://wandb.ai/devhive/automated_weed_detection/runs/yqzum06r' target=\"_blank\">https://wandb.ai/devhive/automated_weed_detection/runs/yqzum06r</a>"
      ],
      "text/plain": [
       "<IPython.core.display.HTML object>"
      ]
     },
     "metadata": {},
     "output_type": "display_data"
    }
   ],
   "source": [
    "run = wandb.init(project=params.WANDB_PROJECT, entity=params.ENTITY, job_type=\"upload\")\n",
    "raw_data_at = wandb.Artifact(params.RAW_DATA_AT, type=\"raw_data\")"
   ]
  },
  {
   "cell_type": "code",
   "execution_count": 7,
   "id": "de76231a",
   "metadata": {},
   "outputs": [],
   "source": [
    "from pathlib import Path\n",
    "import wandb\n",
    "\n",
    "raw_data_at = wandb.Artifact(\"raw_data\", type=\"dataset\")\n",
    "\n",
    "# specify data path\n",
    "data_path = Path('./dataset/data')\n",
    "\n",
    "# add image files to artifact\n",
    "for img_file in data_path.glob('*.jpg'):\n",
    "    raw_data_at.add_file(str(img_file), name=f\"images/{img_file.name}\")\n",
    "\n",
    "# add label files to artifact\n",
    "for label_file in data_path.glob('*.txt'):\n",
    "    raw_data_at.add_file(str(label_file), name=f\"labels/{label_file.name}\")\n"
   ]
  },
  {
   "cell_type": "code",
   "execution_count": 15,
   "id": "28dd9f6e",
   "metadata": {},
   "outputs": [],
   "source": [
    "# get image files\n",
    "data_file = [os.path.join(data_path,x) for x in os.listdir(data_path)]\n",
    "images = [data_file[x] for x in range(len(data_file)) if data_file[x].endswith('.jpeg')]\n",
    "labels = [data_file[x] for x in range(len(data_file)) if data_file[x].endswith('.txt')]\n"
   ]
  },
  {
   "cell_type": "code",
   "execution_count": 19,
   "id": "97e75544",
   "metadata": {},
   "outputs": [
    {
     "data": {
      "text/html": [
       "\n",
       "<style>\n",
       "    /* Turns off some styling */\n",
       "    progress {\n",
       "        /* gets rid of default border in Firefox and Opera. */\n",
       "        border: none;\n",
       "        /* Needs to be in here for Safari polyfill so background images work as expected. */\n",
       "        background-size: auto;\n",
       "    }\n",
       "    progress:not([value]), progress:not([value])::-webkit-progress-bar {\n",
       "        background: repeating-linear-gradient(45deg, #7e7e7e, #7e7e7e 10px, #5c5c5c 10px, #5c5c5c 20px);\n",
       "    }\n",
       "    .progress-bar-interrupted, .progress-bar-interrupted::-webkit-progress-bar {\n",
       "        background: #F44336;\n",
       "    }\n",
       "</style>\n"
      ],
      "text/plain": [
       "<IPython.core.display.HTML object>"
      ]
     },
     "metadata": {},
     "output_type": "display_data"
    },
    {
     "data": {
      "text/html": [
       "\n",
       "    <div>\n",
       "      <progress value='1300' class='' max='1300' style='width:300px; height:20px; vertical-align: middle;'></progress>\n",
       "      100.00% [1300/1300 00:00&lt;00:00]\n",
       "    </div>\n",
       "    "
      ],
      "text/plain": [
       "<IPython.core.display.HTML object>"
      ]
     },
     "metadata": {},
     "output_type": "display_data"
    }
   ],
   "source": [
    "table = _create_table(images, params.BDD_CLASSES)"
   ]
  },
  {
   "cell_type": "code",
   "execution_count": 20,
   "id": "77cea71a",
   "metadata": {},
   "outputs": [
    {
     "data": {
      "text/plain": [
       "ArtifactManifestEntry(path='EDA_table.table.json', digest='j7B2jPkEN9tzT2fvEQNzTQ==', ref=None, birth_artifact_id=None, size=144596, extra={}, local_path='C:\\\\Users\\\\mniti\\\\AppData\\\\Local\\\\wandb\\\\wandb\\\\artifacts\\\\staging\\\\tmprqs3dyla')"
      ]
     },
     "execution_count": 20,
     "metadata": {},
     "output_type": "execute_result"
    }
   ],
   "source": [
    "raw_data_at.add(table, \"EDA_table\")"
   ]
  },
  {
   "cell_type": "code",
   "execution_count": 21,
   "id": "d7be5a4d",
   "metadata": {},
   "outputs": [
    {
     "data": {
      "text/html": [
       "Waiting for W&B process to finish... <strong style=\"color:green\">(success).</strong>"
      ],
      "text/plain": [
       "<IPython.core.display.HTML object>"
      ]
     },
     "metadata": {},
     "output_type": "display_data"
    },
    {
     "data": {
      "text/html": [
       " View run <strong style=\"color:#cdcd00\">vibrant-smoke-12</strong> at: <a href='https://wandb.ai/devhive/automated_weed_detection/runs/yqzum06r' target=\"_blank\">https://wandb.ai/devhive/automated_weed_detection/runs/yqzum06r</a><br/>Synced 4 W&B file(s), 0 media file(s), 1301 artifact file(s) and 0 other file(s)"
      ],
      "text/plain": [
       "<IPython.core.display.HTML object>"
      ]
     },
     "metadata": {},
     "output_type": "display_data"
    },
    {
     "data": {
      "text/html": [
       "Find logs at: <code>.\\wandb\\run-20230304_234615-yqzum06r\\logs</code>"
      ],
      "text/plain": [
       "<IPython.core.display.HTML object>"
      ]
     },
     "metadata": {},
     "output_type": "display_data"
    }
   ],
   "source": [
    "run.log_artifact(raw_data_at)\n",
    "run.finish()"
   ]
  },
  {
   "cell_type": "code",
   "execution_count": null,
   "id": "c250de39",
   "metadata": {},
   "outputs": [],
   "source": []
  }
 ],
 "metadata": {
  "kernelspec": {
   "display_name": "Python 3 (ipykernel)",
   "language": "python",
   "name": "python3"
  },
  "language_info": {
   "codemirror_mode": {
    "name": "ipython",
    "version": 3
   },
   "file_extension": ".py",
   "mimetype": "text/x-python",
   "name": "python",
   "nbconvert_exporter": "python",
   "pygments_lexer": "ipython3",
   "version": "3.8.16"
  }
 },
 "nbformat": 4,
 "nbformat_minor": 5
}
